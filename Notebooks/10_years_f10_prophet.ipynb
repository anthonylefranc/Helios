{
 "cells": [
  {
   "cell_type": "code",
   "execution_count": 185,
   "metadata": {},
   "outputs": [],
   "source": [
    "import pandas as pd\n",
    "import numpy as np\n",
    "from datetime import datetime\n",
    "import matplotlib.pyplot as plt\n",
    "import matplotlib.dates as mdates\n",
    "from prophet import Prophet\n",
    "from sklearn.metrics import mean_absolute_error, mean_squared_error\n",
    "import plotly.express as px\n",
    "import pickle \n",
    "\n",
    "import warnings\n",
    "\n",
    "# Filter out TqdmWarning and FutureWarning\n",
    "warnings.filterwarnings(\"ignore\", category=UserWarning, module=\"tqdm\")\n",
    "warnings.filterwarnings(\"ignore\", category=FutureWarning, module=\"prophet\")\n"
   ]
  },
  {
   "cell_type": "markdown",
   "metadata": {},
   "source": [
    "# Importing f10.7 (sfu) \n",
    "\n",
    "solar flux units\n",
    "Unlike many solar indices, the F10.7 radio flux can easily be measured reliably on a day-to-day basis from the Earth's surface, in all types of weather. Reported in “solar flux units”, (s.f.u.), the F10.7 can vary from below 50 s.f.u., to above 300 s.f.u., over the course of a solar cycle.\n",
    "\n",
    "In this dataset, F10.7 logs are displayed as monthly means, but are recodred daily at a higher frequency (every 15 seconds) by GOES sattelite's instruments\n",
    "\n",
    "The below prediction is far from being perfect and might be correct in a short timeframe (12month), but then be off compared to NASA's & NOAA's predictions."
   ]
  },
  {
   "cell_type": "code",
   "execution_count": 186,
   "metadata": {},
   "outputs": [],
   "source": [
    "solar_cycle_f10_7 = pd.read_csv('../data/solar_cycle.csv')\n",
    "\n",
    "columns_to_drop = ['ssn','smoothed_ssn', 'observed_swpc_ssn', 'smoothed_swpc_ssn', 'smoothed_f10.7']\n",
    "solar_cycle_f10_7 = solar_cycle_f10_7.drop(columns=columns_to_drop)\n",
    "\n",
    "# Convert 'time_tag' column to datetime \n",
    "solar_cycle_f10_7['time_tag'] = pd.to_datetime(solar_cycle_f10_7['time_tag'])\n",
    "\n",
    "# Filter the DataFrame to keep rows with 'time_tag' >= '2005-01-01' where NOAA started capturing f10.7  \n",
    "solar_cycle_f10_7= solar_cycle_f10_7[solar_cycle_f10_7['time_tag'] >= '2005-01-01']"
   ]
  },
  {
   "cell_type": "code",
   "execution_count": 187,
   "metadata": {},
   "outputs": [
    {
     "data": {
      "text/html": [
       "<div>\n",
       "<style scoped>\n",
       "    .dataframe tbody tr th:only-of-type {\n",
       "        vertical-align: middle;\n",
       "    }\n",
       "\n",
       "    .dataframe tbody tr th {\n",
       "        vertical-align: top;\n",
       "    }\n",
       "\n",
       "    .dataframe thead th {\n",
       "        text-align: right;\n",
       "    }\n",
       "</style>\n",
       "<table border=\"1\" class=\"dataframe\">\n",
       "  <thead>\n",
       "    <tr style=\"text-align: right;\">\n",
       "      <th></th>\n",
       "      <th>time_tag</th>\n",
       "      <th>f10.7</th>\n",
       "    </tr>\n",
       "  </thead>\n",
       "  <tbody>\n",
       "    <tr>\n",
       "      <th>3072</th>\n",
       "      <td>2005-01-01</td>\n",
       "      <td>102.86</td>\n",
       "    </tr>\n",
       "    <tr>\n",
       "      <th>3073</th>\n",
       "      <td>2005-02-01</td>\n",
       "      <td>97.30</td>\n",
       "    </tr>\n",
       "    <tr>\n",
       "      <th>3074</th>\n",
       "      <td>2005-03-01</td>\n",
       "      <td>90.04</td>\n",
       "    </tr>\n",
       "    <tr>\n",
       "      <th>3075</th>\n",
       "      <td>2005-04-01</td>\n",
       "      <td>85.92</td>\n",
       "    </tr>\n",
       "    <tr>\n",
       "      <th>3076</th>\n",
       "      <td>2005-05-01</td>\n",
       "      <td>101.65</td>\n",
       "    </tr>\n",
       "    <tr>\n",
       "      <th>...</th>\n",
       "      <td>...</td>\n",
       "      <td>...</td>\n",
       "    </tr>\n",
       "    <tr>\n",
       "      <th>3295</th>\n",
       "      <td>2023-08-01</td>\n",
       "      <td>153.92</td>\n",
       "    </tr>\n",
       "    <tr>\n",
       "      <th>3296</th>\n",
       "      <td>2023-09-01</td>\n",
       "      <td>155.74</td>\n",
       "    </tr>\n",
       "    <tr>\n",
       "      <th>3297</th>\n",
       "      <td>2023-10-01</td>\n",
       "      <td>141.59</td>\n",
       "    </tr>\n",
       "    <tr>\n",
       "      <th>3298</th>\n",
       "      <td>2023-11-01</td>\n",
       "      <td>154.36</td>\n",
       "    </tr>\n",
       "    <tr>\n",
       "      <th>3299</th>\n",
       "      <td>2023-12-01</td>\n",
       "      <td>159.28</td>\n",
       "    </tr>\n",
       "  </tbody>\n",
       "</table>\n",
       "<p>228 rows × 2 columns</p>\n",
       "</div>"
      ],
      "text/plain": [
       "       time_tag   f10.7\n",
       "3072 2005-01-01  102.86\n",
       "3073 2005-02-01   97.30\n",
       "3074 2005-03-01   90.04\n",
       "3075 2005-04-01   85.92\n",
       "3076 2005-05-01  101.65\n",
       "...         ...     ...\n",
       "3295 2023-08-01  153.92\n",
       "3296 2023-09-01  155.74\n",
       "3297 2023-10-01  141.59\n",
       "3298 2023-11-01  154.36\n",
       "3299 2023-12-01  159.28\n",
       "\n",
       "[228 rows x 2 columns]"
      ]
     },
     "execution_count": 187,
     "metadata": {},
     "output_type": "execute_result"
    }
   ],
   "source": [
    "solar_cycle_f10_7\n"
   ]
  },
  {
   "cell_type": "code",
   "execution_count": 188,
   "metadata": {},
   "outputs": [
    {
     "data": {
      "application/vnd.plotly.v1+json": {
       "config": {
        "plotlyServerURL": "https://plot.ly"
       },
       "data": [
        {
         "hovertemplate": "ds=%{x}<br>y=%{y}<extra></extra>",
         "legendgroup": "",
         "line": {
          "color": "#636efa",
          "dash": "solid"
         },
         "marker": {
          "symbol": "circle"
         },
         "mode": "lines",
         "name": "",
         "orientation": "v",
         "showlegend": false,
         "type": "scatter",
         "x": [
          "2005-01-01T00:00:00",
          "2005-02-01T00:00:00",
          "2005-03-01T00:00:00",
          "2005-04-01T00:00:00",
          "2005-05-01T00:00:00",
          "2005-06-01T00:00:00",
          "2005-07-01T00:00:00",
          "2005-08-01T00:00:00",
          "2005-09-01T00:00:00",
          "2005-10-01T00:00:00",
          "2005-11-01T00:00:00",
          "2005-12-01T00:00:00",
          "2006-01-01T00:00:00",
          "2006-02-01T00:00:00",
          "2006-03-01T00:00:00",
          "2006-04-01T00:00:00",
          "2006-05-01T00:00:00",
          "2006-06-01T00:00:00",
          "2006-07-01T00:00:00",
          "2006-08-01T00:00:00",
          "2006-09-01T00:00:00",
          "2006-10-01T00:00:00",
          "2006-11-01T00:00:00",
          "2006-12-01T00:00:00",
          "2007-01-01T00:00:00",
          "2007-02-01T00:00:00",
          "2007-03-01T00:00:00",
          "2007-04-01T00:00:00",
          "2007-05-01T00:00:00",
          "2007-06-01T00:00:00",
          "2007-07-01T00:00:00",
          "2007-08-01T00:00:00",
          "2007-09-01T00:00:00",
          "2007-10-01T00:00:00",
          "2007-11-01T00:00:00",
          "2007-12-01T00:00:00",
          "2008-01-01T00:00:00",
          "2008-02-01T00:00:00",
          "2008-03-01T00:00:00",
          "2008-04-01T00:00:00",
          "2008-05-01T00:00:00",
          "2008-06-01T00:00:00",
          "2008-07-01T00:00:00",
          "2008-08-01T00:00:00",
          "2008-09-01T00:00:00",
          "2008-10-01T00:00:00",
          "2008-11-01T00:00:00",
          "2008-12-01T00:00:00",
          "2009-01-01T00:00:00",
          "2009-02-01T00:00:00",
          "2009-03-01T00:00:00",
          "2009-04-01T00:00:00",
          "2009-05-01T00:00:00",
          "2009-06-01T00:00:00",
          "2009-07-01T00:00:00",
          "2009-08-01T00:00:00",
          "2009-09-01T00:00:00",
          "2009-10-01T00:00:00",
          "2009-11-01T00:00:00",
          "2009-12-01T00:00:00",
          "2010-01-01T00:00:00",
          "2010-02-01T00:00:00",
          "2010-03-01T00:00:00",
          "2010-04-01T00:00:00",
          "2010-05-01T00:00:00",
          "2010-06-01T00:00:00",
          "2010-07-01T00:00:00",
          "2010-08-01T00:00:00",
          "2010-09-01T00:00:00",
          "2010-10-01T00:00:00",
          "2010-11-01T00:00:00",
          "2010-12-01T00:00:00",
          "2011-01-01T00:00:00",
          "2011-02-01T00:00:00",
          "2011-03-01T00:00:00",
          "2011-04-01T00:00:00",
          "2011-05-01T00:00:00",
          "2011-06-01T00:00:00",
          "2011-07-01T00:00:00",
          "2011-08-01T00:00:00",
          "2011-09-01T00:00:00",
          "2011-10-01T00:00:00",
          "2011-11-01T00:00:00",
          "2011-12-01T00:00:00",
          "2012-01-01T00:00:00",
          "2012-02-01T00:00:00",
          "2012-03-01T00:00:00",
          "2012-04-01T00:00:00",
          "2012-05-01T00:00:00",
          "2012-06-01T00:00:00",
          "2012-07-01T00:00:00",
          "2012-08-01T00:00:00",
          "2012-09-01T00:00:00",
          "2012-10-01T00:00:00",
          "2012-11-01T00:00:00",
          "2012-12-01T00:00:00",
          "2013-01-01T00:00:00",
          "2013-02-01T00:00:00",
          "2013-03-01T00:00:00",
          "2013-04-01T00:00:00",
          "2013-05-01T00:00:00",
          "2013-06-01T00:00:00",
          "2013-07-01T00:00:00",
          "2013-08-01T00:00:00",
          "2013-09-01T00:00:00",
          "2013-10-01T00:00:00",
          "2013-11-01T00:00:00",
          "2013-12-01T00:00:00",
          "2014-01-01T00:00:00",
          "2014-02-01T00:00:00",
          "2014-03-01T00:00:00",
          "2014-04-01T00:00:00",
          "2014-05-01T00:00:00",
          "2014-06-01T00:00:00",
          "2014-07-01T00:00:00",
          "2014-08-01T00:00:00",
          "2014-09-01T00:00:00",
          "2014-10-01T00:00:00",
          "2014-11-01T00:00:00",
          "2014-12-01T00:00:00",
          "2015-01-01T00:00:00",
          "2015-02-01T00:00:00",
          "2015-03-01T00:00:00",
          "2015-04-01T00:00:00",
          "2015-05-01T00:00:00",
          "2015-06-01T00:00:00",
          "2015-07-01T00:00:00",
          "2015-08-01T00:00:00",
          "2015-09-01T00:00:00",
          "2015-10-01T00:00:00",
          "2015-11-01T00:00:00",
          "2015-12-01T00:00:00",
          "2016-01-01T00:00:00",
          "2016-02-01T00:00:00",
          "2016-03-01T00:00:00",
          "2016-04-01T00:00:00",
          "2016-05-01T00:00:00",
          "2016-06-01T00:00:00",
          "2016-07-01T00:00:00",
          "2016-08-01T00:00:00",
          "2016-09-01T00:00:00",
          "2016-10-01T00:00:00",
          "2016-11-01T00:00:00",
          "2016-12-01T00:00:00",
          "2017-01-01T00:00:00",
          "2017-02-01T00:00:00",
          "2017-03-01T00:00:00",
          "2017-04-01T00:00:00",
          "2017-05-01T00:00:00",
          "2017-06-01T00:00:00",
          "2017-07-01T00:00:00",
          "2017-08-01T00:00:00",
          "2017-09-01T00:00:00",
          "2017-10-01T00:00:00",
          "2017-11-01T00:00:00",
          "2017-12-01T00:00:00",
          "2018-01-01T00:00:00",
          "2018-02-01T00:00:00",
          "2018-03-01T00:00:00",
          "2018-04-01T00:00:00",
          "2018-05-01T00:00:00",
          "2018-06-01T00:00:00",
          "2018-07-01T00:00:00",
          "2018-08-01T00:00:00",
          "2018-09-01T00:00:00",
          "2018-10-01T00:00:00",
          "2018-11-01T00:00:00",
          "2018-12-01T00:00:00",
          "2019-01-01T00:00:00",
          "2019-02-01T00:00:00",
          "2019-03-01T00:00:00",
          "2019-04-01T00:00:00",
          "2019-05-01T00:00:00",
          "2019-06-01T00:00:00",
          "2019-07-01T00:00:00",
          "2019-08-01T00:00:00",
          "2019-09-01T00:00:00",
          "2019-10-01T00:00:00",
          "2019-11-01T00:00:00",
          "2019-12-01T00:00:00",
          "2020-01-01T00:00:00",
          "2020-02-01T00:00:00",
          "2020-03-01T00:00:00",
          "2020-04-01T00:00:00",
          "2020-05-01T00:00:00",
          "2020-06-01T00:00:00",
          "2020-07-01T00:00:00",
          "2020-08-01T00:00:00",
          "2020-09-01T00:00:00",
          "2020-10-01T00:00:00",
          "2020-11-01T00:00:00",
          "2020-12-01T00:00:00",
          "2021-01-01T00:00:00",
          "2021-02-01T00:00:00",
          "2021-03-01T00:00:00",
          "2021-04-01T00:00:00",
          "2021-05-01T00:00:00",
          "2021-06-01T00:00:00",
          "2021-07-01T00:00:00",
          "2021-08-01T00:00:00",
          "2021-09-01T00:00:00",
          "2021-10-01T00:00:00",
          "2021-11-01T00:00:00",
          "2021-12-01T00:00:00",
          "2022-01-01T00:00:00",
          "2022-02-01T00:00:00",
          "2022-03-01T00:00:00",
          "2022-04-01T00:00:00",
          "2022-05-01T00:00:00",
          "2022-06-01T00:00:00",
          "2022-07-01T00:00:00",
          "2022-08-01T00:00:00",
          "2022-09-01T00:00:00",
          "2022-10-01T00:00:00",
          "2022-11-01T00:00:00",
          "2022-12-01T00:00:00",
          "2023-01-01T00:00:00",
          "2023-02-01T00:00:00",
          "2023-03-01T00:00:00",
          "2023-04-01T00:00:00",
          "2023-05-01T00:00:00",
          "2023-06-01T00:00:00",
          "2023-07-01T00:00:00",
          "2023-08-01T00:00:00",
          "2023-09-01T00:00:00",
          "2023-10-01T00:00:00",
          "2023-11-01T00:00:00",
          "2023-12-01T00:00:00"
         ],
         "xaxis": "x",
         "y": [
          102.86,
          97.3,
          90.04,
          85.92,
          101.65,
          94.09,
          100.64,
          98.24,
          109.55,
          76.71,
          86.38,
          90.85,
          83.32,
          76.52,
          75.5,
          89.27,
          80.83,
          76.68,
          75.88,
          79.59,
          78.02,
          74.43,
          86.43,
          90.39,
          83.76,
          77.65,
          72.24,
          72.36,
          74.36,
          74.07,
          71.48,
          69.03,
          66.98,
          67.69,
          69.39,
          78.21,
          74.02,
          71.03,
          72.99,
          70.15,
          68.32,
          65.85,
          65.67,
          66.17,
          67,
          68.21,
          68.53,
          69.05,
          69.7,
          69.85,
          69.1,
          69.61,
          70.35,
          68.57,
          68.19,
          67.36,
          70.32,
          72.14,
          73.66,
          76.84,
          81.31,
          84.74,
          82.96,
          75.72,
          73.63,
          72.38,
          79.6,
          79.16,
          80.95,
          81.42,
          82.56,
          84.19,
          83.39,
          94.55,
          124.26,
          112.85,
          95.68,
          95.86,
          94.34,
          101.61,
          135.27,
          137.4,
          153.5,
          141.46,
          134.79,
          106.86,
          115.71,
          113.26,
          121.4,
          120.4,
          137.61,
          115.86,
          123.4,
          123.07,
          121.15,
          108.26,
          126.83,
          104.41,
          111.36,
          124.95,
          131.43,
          110.74,
          115.53,
          114.9,
          102.83,
          132.86,
          148.78,
          148.1,
          162.69,
          170.13,
          150.5,
          143.94,
          130.11,
          122.37,
          137.85,
          124.56,
          146.57,
          154.99,
          155.74,
          159.02,
          142,
          128.92,
          126.89,
          129.05,
          120.05,
          128.54,
          107,
          105.93,
          101.99,
          104,
          109.68,
          112.54,
          103.64,
          103.71,
          91.43,
          93.45,
          93.36,
          81.95,
          86.31,
          85.15,
          87.45,
          86.15,
          78.58,
          75.29,
          77.37,
          76.95,
          74.69,
          80.91,
          73.6,
          74.83,
          77.58,
          78.25,
          95.49,
          76.39,
          72.28,
          71.7,
          70.01,
          71.63,
          68.26,
          69.97,
          70.95,
          72.66,
          69.61,
          69.05,
          68.17,
          69.56,
          69.02,
          70.05,
          71.58,
          70.59,
          71.52,
          72.47,
          71.32,
          68.13,
          67.25,
          67.05,
          68,
          67.46,
          70.18,
          70.93,
          72.32,
          70.9,
          70.19,
          69.56,
          69.21,
          69.7,
          69.47,
          71.66,
          70.56,
          74.59,
          90.11,
          87.28,
          76.07,
          74.32,
          76.48,
          74.74,
          75.64,
          79.81,
          80.97,
          77.93,
          87.4,
          90.05,
          86.57,
          102.94,
          104.05,
          109.15,
          117.79,
          130.63,
          133.98,
          116.07,
          125.62,
          118.13,
          134.69,
          132.84,
          123.56,
          148.46,
          182.47,
          172.09,
          157.53,
          145.86,
          156.04,
          162.39,
          177.53,
          153.92,
          155.74,
          141.59,
          154.36,
          159.28
         ],
         "yaxis": "y"
        }
       ],
       "layout": {
        "legend": {
         "tracegroupgap": 0
        },
        "showlegend": true,
        "template": {
         "data": {
          "bar": [
           {
            "error_x": {
             "color": "#2a3f5f"
            },
            "error_y": {
             "color": "#2a3f5f"
            },
            "marker": {
             "line": {
              "color": "#E5ECF6",
              "width": 0.5
             },
             "pattern": {
              "fillmode": "overlay",
              "size": 10,
              "solidity": 0.2
             }
            },
            "type": "bar"
           }
          ],
          "barpolar": [
           {
            "marker": {
             "line": {
              "color": "#E5ECF6",
              "width": 0.5
             },
             "pattern": {
              "fillmode": "overlay",
              "size": 10,
              "solidity": 0.2
             }
            },
            "type": "barpolar"
           }
          ],
          "carpet": [
           {
            "aaxis": {
             "endlinecolor": "#2a3f5f",
             "gridcolor": "white",
             "linecolor": "white",
             "minorgridcolor": "white",
             "startlinecolor": "#2a3f5f"
            },
            "baxis": {
             "endlinecolor": "#2a3f5f",
             "gridcolor": "white",
             "linecolor": "white",
             "minorgridcolor": "white",
             "startlinecolor": "#2a3f5f"
            },
            "type": "carpet"
           }
          ],
          "choropleth": [
           {
            "colorbar": {
             "outlinewidth": 0,
             "ticks": ""
            },
            "type": "choropleth"
           }
          ],
          "contour": [
           {
            "colorbar": {
             "outlinewidth": 0,
             "ticks": ""
            },
            "colorscale": [
             [
              0,
              "#0d0887"
             ],
             [
              0.1111111111111111,
              "#46039f"
             ],
             [
              0.2222222222222222,
              "#7201a8"
             ],
             [
              0.3333333333333333,
              "#9c179e"
             ],
             [
              0.4444444444444444,
              "#bd3786"
             ],
             [
              0.5555555555555556,
              "#d8576b"
             ],
             [
              0.6666666666666666,
              "#ed7953"
             ],
             [
              0.7777777777777778,
              "#fb9f3a"
             ],
             [
              0.8888888888888888,
              "#fdca26"
             ],
             [
              1,
              "#f0f921"
             ]
            ],
            "type": "contour"
           }
          ],
          "contourcarpet": [
           {
            "colorbar": {
             "outlinewidth": 0,
             "ticks": ""
            },
            "type": "contourcarpet"
           }
          ],
          "heatmap": [
           {
            "colorbar": {
             "outlinewidth": 0,
             "ticks": ""
            },
            "colorscale": [
             [
              0,
              "#0d0887"
             ],
             [
              0.1111111111111111,
              "#46039f"
             ],
             [
              0.2222222222222222,
              "#7201a8"
             ],
             [
              0.3333333333333333,
              "#9c179e"
             ],
             [
              0.4444444444444444,
              "#bd3786"
             ],
             [
              0.5555555555555556,
              "#d8576b"
             ],
             [
              0.6666666666666666,
              "#ed7953"
             ],
             [
              0.7777777777777778,
              "#fb9f3a"
             ],
             [
              0.8888888888888888,
              "#fdca26"
             ],
             [
              1,
              "#f0f921"
             ]
            ],
            "type": "heatmap"
           }
          ],
          "heatmapgl": [
           {
            "colorbar": {
             "outlinewidth": 0,
             "ticks": ""
            },
            "colorscale": [
             [
              0,
              "#0d0887"
             ],
             [
              0.1111111111111111,
              "#46039f"
             ],
             [
              0.2222222222222222,
              "#7201a8"
             ],
             [
              0.3333333333333333,
              "#9c179e"
             ],
             [
              0.4444444444444444,
              "#bd3786"
             ],
             [
              0.5555555555555556,
              "#d8576b"
             ],
             [
              0.6666666666666666,
              "#ed7953"
             ],
             [
              0.7777777777777778,
              "#fb9f3a"
             ],
             [
              0.8888888888888888,
              "#fdca26"
             ],
             [
              1,
              "#f0f921"
             ]
            ],
            "type": "heatmapgl"
           }
          ],
          "histogram": [
           {
            "marker": {
             "pattern": {
              "fillmode": "overlay",
              "size": 10,
              "solidity": 0.2
             }
            },
            "type": "histogram"
           }
          ],
          "histogram2d": [
           {
            "colorbar": {
             "outlinewidth": 0,
             "ticks": ""
            },
            "colorscale": [
             [
              0,
              "#0d0887"
             ],
             [
              0.1111111111111111,
              "#46039f"
             ],
             [
              0.2222222222222222,
              "#7201a8"
             ],
             [
              0.3333333333333333,
              "#9c179e"
             ],
             [
              0.4444444444444444,
              "#bd3786"
             ],
             [
              0.5555555555555556,
              "#d8576b"
             ],
             [
              0.6666666666666666,
              "#ed7953"
             ],
             [
              0.7777777777777778,
              "#fb9f3a"
             ],
             [
              0.8888888888888888,
              "#fdca26"
             ],
             [
              1,
              "#f0f921"
             ]
            ],
            "type": "histogram2d"
           }
          ],
          "histogram2dcontour": [
           {
            "colorbar": {
             "outlinewidth": 0,
             "ticks": ""
            },
            "colorscale": [
             [
              0,
              "#0d0887"
             ],
             [
              0.1111111111111111,
              "#46039f"
             ],
             [
              0.2222222222222222,
              "#7201a8"
             ],
             [
              0.3333333333333333,
              "#9c179e"
             ],
             [
              0.4444444444444444,
              "#bd3786"
             ],
             [
              0.5555555555555556,
              "#d8576b"
             ],
             [
              0.6666666666666666,
              "#ed7953"
             ],
             [
              0.7777777777777778,
              "#fb9f3a"
             ],
             [
              0.8888888888888888,
              "#fdca26"
             ],
             [
              1,
              "#f0f921"
             ]
            ],
            "type": "histogram2dcontour"
           }
          ],
          "mesh3d": [
           {
            "colorbar": {
             "outlinewidth": 0,
             "ticks": ""
            },
            "type": "mesh3d"
           }
          ],
          "parcoords": [
           {
            "line": {
             "colorbar": {
              "outlinewidth": 0,
              "ticks": ""
             }
            },
            "type": "parcoords"
           }
          ],
          "pie": [
           {
            "automargin": true,
            "type": "pie"
           }
          ],
          "scatter": [
           {
            "fillpattern": {
             "fillmode": "overlay",
             "size": 10,
             "solidity": 0.2
            },
            "type": "scatter"
           }
          ],
          "scatter3d": [
           {
            "line": {
             "colorbar": {
              "outlinewidth": 0,
              "ticks": ""
             }
            },
            "marker": {
             "colorbar": {
              "outlinewidth": 0,
              "ticks": ""
             }
            },
            "type": "scatter3d"
           }
          ],
          "scattercarpet": [
           {
            "marker": {
             "colorbar": {
              "outlinewidth": 0,
              "ticks": ""
             }
            },
            "type": "scattercarpet"
           }
          ],
          "scattergeo": [
           {
            "marker": {
             "colorbar": {
              "outlinewidth": 0,
              "ticks": ""
             }
            },
            "type": "scattergeo"
           }
          ],
          "scattergl": [
           {
            "marker": {
             "colorbar": {
              "outlinewidth": 0,
              "ticks": ""
             }
            },
            "type": "scattergl"
           }
          ],
          "scattermapbox": [
           {
            "marker": {
             "colorbar": {
              "outlinewidth": 0,
              "ticks": ""
             }
            },
            "type": "scattermapbox"
           }
          ],
          "scatterpolar": [
           {
            "marker": {
             "colorbar": {
              "outlinewidth": 0,
              "ticks": ""
             }
            },
            "type": "scatterpolar"
           }
          ],
          "scatterpolargl": [
           {
            "marker": {
             "colorbar": {
              "outlinewidth": 0,
              "ticks": ""
             }
            },
            "type": "scatterpolargl"
           }
          ],
          "scatterternary": [
           {
            "marker": {
             "colorbar": {
              "outlinewidth": 0,
              "ticks": ""
             }
            },
            "type": "scatterternary"
           }
          ],
          "surface": [
           {
            "colorbar": {
             "outlinewidth": 0,
             "ticks": ""
            },
            "colorscale": [
             [
              0,
              "#0d0887"
             ],
             [
              0.1111111111111111,
              "#46039f"
             ],
             [
              0.2222222222222222,
              "#7201a8"
             ],
             [
              0.3333333333333333,
              "#9c179e"
             ],
             [
              0.4444444444444444,
              "#bd3786"
             ],
             [
              0.5555555555555556,
              "#d8576b"
             ],
             [
              0.6666666666666666,
              "#ed7953"
             ],
             [
              0.7777777777777778,
              "#fb9f3a"
             ],
             [
              0.8888888888888888,
              "#fdca26"
             ],
             [
              1,
              "#f0f921"
             ]
            ],
            "type": "surface"
           }
          ],
          "table": [
           {
            "cells": {
             "fill": {
              "color": "#EBF0F8"
             },
             "line": {
              "color": "white"
             }
            },
            "header": {
             "fill": {
              "color": "#C8D4E3"
             },
             "line": {
              "color": "white"
             }
            },
            "type": "table"
           }
          ]
         },
         "layout": {
          "annotationdefaults": {
           "arrowcolor": "#2a3f5f",
           "arrowhead": 0,
           "arrowwidth": 1
          },
          "autotypenumbers": "strict",
          "coloraxis": {
           "colorbar": {
            "outlinewidth": 0,
            "ticks": ""
           }
          },
          "colorscale": {
           "diverging": [
            [
             0,
             "#8e0152"
            ],
            [
             0.1,
             "#c51b7d"
            ],
            [
             0.2,
             "#de77ae"
            ],
            [
             0.3,
             "#f1b6da"
            ],
            [
             0.4,
             "#fde0ef"
            ],
            [
             0.5,
             "#f7f7f7"
            ],
            [
             0.6,
             "#e6f5d0"
            ],
            [
             0.7,
             "#b8e186"
            ],
            [
             0.8,
             "#7fbc41"
            ],
            [
             0.9,
             "#4d9221"
            ],
            [
             1,
             "#276419"
            ]
           ],
           "sequential": [
            [
             0,
             "#0d0887"
            ],
            [
             0.1111111111111111,
             "#46039f"
            ],
            [
             0.2222222222222222,
             "#7201a8"
            ],
            [
             0.3333333333333333,
             "#9c179e"
            ],
            [
             0.4444444444444444,
             "#bd3786"
            ],
            [
             0.5555555555555556,
             "#d8576b"
            ],
            [
             0.6666666666666666,
             "#ed7953"
            ],
            [
             0.7777777777777778,
             "#fb9f3a"
            ],
            [
             0.8888888888888888,
             "#fdca26"
            ],
            [
             1,
             "#f0f921"
            ]
           ],
           "sequentialminus": [
            [
             0,
             "#0d0887"
            ],
            [
             0.1111111111111111,
             "#46039f"
            ],
            [
             0.2222222222222222,
             "#7201a8"
            ],
            [
             0.3333333333333333,
             "#9c179e"
            ],
            [
             0.4444444444444444,
             "#bd3786"
            ],
            [
             0.5555555555555556,
             "#d8576b"
            ],
            [
             0.6666666666666666,
             "#ed7953"
            ],
            [
             0.7777777777777778,
             "#fb9f3a"
            ],
            [
             0.8888888888888888,
             "#fdca26"
            ],
            [
             1,
             "#f0f921"
            ]
           ]
          },
          "colorway": [
           "#636efa",
           "#EF553B",
           "#00cc96",
           "#ab63fa",
           "#FFA15A",
           "#19d3f3",
           "#FF6692",
           "#B6E880",
           "#FF97FF",
           "#FECB52"
          ],
          "font": {
           "color": "#2a3f5f"
          },
          "geo": {
           "bgcolor": "white",
           "lakecolor": "white",
           "landcolor": "#E5ECF6",
           "showlakes": true,
           "showland": true,
           "subunitcolor": "white"
          },
          "hoverlabel": {
           "align": "left"
          },
          "hovermode": "closest",
          "mapbox": {
           "style": "light"
          },
          "paper_bgcolor": "white",
          "plot_bgcolor": "#E5ECF6",
          "polar": {
           "angularaxis": {
            "gridcolor": "white",
            "linecolor": "white",
            "ticks": ""
           },
           "bgcolor": "#E5ECF6",
           "radialaxis": {
            "gridcolor": "white",
            "linecolor": "white",
            "ticks": ""
           }
          },
          "scene": {
           "xaxis": {
            "backgroundcolor": "#E5ECF6",
            "gridcolor": "white",
            "gridwidth": 2,
            "linecolor": "white",
            "showbackground": true,
            "ticks": "",
            "zerolinecolor": "white"
           },
           "yaxis": {
            "backgroundcolor": "#E5ECF6",
            "gridcolor": "white",
            "gridwidth": 2,
            "linecolor": "white",
            "showbackground": true,
            "ticks": "",
            "zerolinecolor": "white"
           },
           "zaxis": {
            "backgroundcolor": "#E5ECF6",
            "gridcolor": "white",
            "gridwidth": 2,
            "linecolor": "white",
            "showbackground": true,
            "ticks": "",
            "zerolinecolor": "white"
           }
          },
          "shapedefaults": {
           "line": {
            "color": "#2a3f5f"
           }
          },
          "ternary": {
           "aaxis": {
            "gridcolor": "white",
            "linecolor": "white",
            "ticks": ""
           },
           "baxis": {
            "gridcolor": "white",
            "linecolor": "white",
            "ticks": ""
           },
           "bgcolor": "#E5ECF6",
           "caxis": {
            "gridcolor": "white",
            "linecolor": "white",
            "ticks": ""
           }
          },
          "title": {
           "x": 0.05
          },
          "xaxis": {
           "automargin": true,
           "gridcolor": "white",
           "linecolor": "white",
           "ticks": "",
           "title": {
            "standoff": 15
           },
           "zerolinecolor": "white",
           "zerolinewidth": 2
          },
          "yaxis": {
           "automargin": true,
           "gridcolor": "white",
           "linecolor": "white",
           "ticks": "",
           "title": {
            "standoff": 15
           },
           "zerolinecolor": "white",
           "zerolinewidth": 2
          }
         }
        },
        "title": {
         "text": "Solar Cycle Data - sfu Xray emissions"
        },
        "xaxis": {
         "anchor": "y",
         "domain": [
          0,
          1
         ],
         "tickangle": -45,
         "title": {
          "text": "Time"
         }
        },
        "yaxis": {
         "anchor": "x",
         "domain": [
          0,
          1
         ],
         "title": {
          "text": "f10.7 Xray emissions"
         }
        }
       }
      }
     },
     "metadata": {},
     "output_type": "display_data"
    }
   ],
   "source": [
    "# Rename columns to match Prophet's requirements (ds for time and y for target)\n",
    "solar_cycle_f10_7.rename(columns={'time_tag': 'ds', 'f10.7': 'y'}, inplace=True)\n",
    "\n",
    "# Sort the DataFrame by 'ds' in chronological order - was already, but just in case\n",
    "solar_cycle_f10_7 = solar_cycle_f10_7.sort_values(by='ds')\n",
    "\n",
    "# plot the full dataframe, to see solar cycle's pattern (more or less 11 years)\n",
    "fig = px.line(solar_cycle_f10_7, x='ds', y='y', title='Solar Cycle Data - sfu Xray emissions')\n",
    "fig.update_xaxes(title_text='Time')\n",
    "fig.update_yaxes(title_text='f10.7 Xray emissions')\n",
    "fig.update_layout(xaxis=dict(tickangle=-45), showlegend=True)\n",
    "fig.show()"
   ]
  },
  {
   "cell_type": "code",
   "execution_count": null,
   "metadata": {},
   "outputs": [],
   "source": []
  },
  {
   "cell_type": "markdown",
   "metadata": {},
   "source": [
    "# Reusing SSN prophet's model to predict next 5 years"
   ]
  },
  {
   "cell_type": "code",
   "execution_count": 189,
   "metadata": {},
   "outputs": [
    {
     "name": "stderr",
     "output_type": "stream",
     "text": [
      "16:15:04 - cmdstanpy - INFO - Chain [1] start processing\n"
     ]
    },
    {
     "name": "stderr",
     "output_type": "stream",
     "text": [
      "16:15:04 - cmdstanpy - INFO - Chain [1] done processing\n"
     ]
    },
    {
     "data": {
      "image/png": "[encoded data removed]",
      "text/plain": [
       "<Figure size 1000x600 with 1 Axes>"
      ]
     },
     "metadata": {},
     "output_type": "display_data"
    }
   ],
   "source": [
    "#ORIGINAL ASSUMTION \n",
    "\n",
    "# NOTE - Observed seasonality of the sun is between 10.2 to 11.5 on average, i tried multiple comnbination to land on these figures\n",
    "\n",
    "\n",
    "# model = Prophet(\n",
    "#     n_changepoints=150,  # Adjust growth type  \n",
    "#     seasonality_mode='multiplicative',\n",
    "#     changepoint_prior_scale=0.5,  # Adjust changepoint_prior_scale\n",
    "#     holidays_prior_scale=0.2\n",
    "# ).add_seasonality(name=\"11_years\", period=10.38*365, fourier_order=20) #fourier_order=20\n",
    "\n",
    "\n",
    "#AFTER HYPERPARAMETERS TUNING\n",
    "model = Prophet(\n",
    "    n_changepoints=150,  # Adjust growth type  \n",
    "    seasonality_mode='multiplicative',\n",
    "    changepoint_prior_scale=0.3,  # Adjust changepoint_prior_scale\n",
    "    holidays_prior_scale=0.3\n",
    ").add_seasonality(name=\"11_years\", period=10.15*365, fourier_order=20) #fourier_order=20\n",
    "\n",
    "#Best Parameters: {'changepoint_prior_scale': 0.3, 'holidays_prior_scale': 0.3, 'n_changepoints': 150, 'seasonality_mode': 'multiplicative'}\n",
    "#Best MAE: 49.98500456124057\n",
    "\n",
    "\n",
    "\n",
    "# Rename the columns to match the required format\n",
    "prophet_df = solar_cycle_f10_7.copy()\n",
    "\n",
    "# Log transform the 'y' column\n",
    "prophet_df[\"y\"] = np.log1p(prophet_df[\"y\"])\n",
    "\n",
    "# Fit the model\n",
    "model.fit(prophet_df)\n",
    "\n",
    "# Create a dataframe for future predictions (next 10 years)\n",
    "future = model.make_future_dataframe(periods=365*10, freq='D')\n",
    "\n",
    "# Make predictions\n",
    "forecast = model.predict(future)\n",
    "\n",
    "# Plot the results (you can customize the plotting as needed)\n",
    "fig = model.plot(forecast)\n",
    "plt.show()"
   ]
  },
  {
   "cell_type": "code",
   "execution_count": 190,
   "metadata": {},
   "outputs": [
    {
     "data": {
      "image/png": "[encoded data removed]",
      "text/plain": [
       "<Figure size 1200x600 with 1 Axes>"
      ]
     },
     "metadata": {},
     "output_type": "display_data"
    }
   ],
   "source": [
    "# Apply the exponential function to revert the log transformation\n",
    "forecast['yhat'] = np.exp(forecast['yhat'])\n",
    "\n",
    "# Extract the predicted values of 'ds' and the reverted 'yhat' from the forecast dataframe\n",
    "predicted_y = forecast[['ds', 'yhat']]\n",
    "\n",
    "# Plot the predicted values alongside the original 'y' values\n",
    "plt.figure(figsize=(12, 6))\n",
    "plt.plot(solar_cycle_f10_7['ds'], solar_cycle_f10_7['y'], label='Original Data', color='blue')\n",
    "plt.plot(predicted_y['ds'], predicted_y['yhat'], label='Predicted Data', color='red')\n",
    "plt.title('Original vs. Predicted Solar Activity (SSN)')\n",
    "plt.xlabel('Time')\n",
    "plt.ylabel('Solar Activity (f10.7)')\n",
    "plt.legend()\n",
    "plt.show()"
   ]
  },
  {
   "cell_type": "markdown",
   "metadata": {},
   "source": [
    "# train/split"
   ]
  },
  {
   "cell_type": "code",
   "execution_count": 191,
   "metadata": {},
   "outputs": [
    {
     "data": {
      "image/png": "[encoded data removed]",
      "text/plain": [
       "<Figure size 1000x500 with 1 Axes>"
      ]
     },
     "metadata": {},
     "output_type": "display_data"
    }
   ],
   "source": [
    "# Define the split date\n",
    "split_date = '2020-01-01'\n",
    "\n",
    "# Create train and test DataFrames based on the split date\n",
    "solar_cycle_f10_7_train = solar_cycle_f10_7[solar_cycle_f10_7['ds'] <= split_date].copy()\n",
    "solar_cycle_f10_7_test = solar_cycle_f10_7[solar_cycle_f10_7['ds'] > split_date].copy()\n",
    "\n",
    "import matplotlib.pyplot as plt\n",
    "\n",
    "# Plot train and test data to visualize the split\n",
    "plt.figure(figsize=(10, 5))\n",
    "plt.plot(solar_cycle_f10_7_test['ds'], solar_cycle_f10_7_test['y'], label='Test Data', linestyle='', marker='.', ms=2.5)  \n",
    "plt.plot(solar_cycle_f10_7_train['ds'], solar_cycle_f10_7_train['y'], label='Train Data', linestyle='', marker='.', ms=2.5)  \n",
    "plt.title('Solar Cycle Data Split')\n",
    "plt.xlabel('Time')\n",
    "plt.ylabel('F10.7')\n",
    "plt.legend()\n",
    "plt.show()"
   ]
  },
  {
   "cell_type": "code",
   "execution_count": 192,
   "metadata": {},
   "outputs": [
    {
     "name": "stderr",
     "output_type": "stream",
     "text": [
      "16:15:05 - cmdstanpy - INFO - Chain [1] start processing\n",
      "16:15:05 - cmdstanpy - INFO - Chain [1] done processing\n"
     ]
    },
    {
     "data": {
      "text/plain": [
       "<prophet.forecaster.Prophet at 0x1a8f0867950>"
      ]
     },
     "execution_count": 192,
     "metadata": {},
     "output_type": "execute_result"
    }
   ],
   "source": [
    "# reusing above model on train \n",
    "\n",
    "test_model = Prophet(\n",
    "    growth='linear',  # Adjust growth type\n",
    "    interval_width=0.95,  # Wider prediction intervals\n",
    "   # seasonality_mode='multiplicative',\n",
    "    changepoint_prior_scale=0.01  # Adjust changepoint_prior_scale\n",
    ").add_seasonality(name=\"11_years\", period=10.83*365, fourier_order=20) #fourier_order=20\n",
    "\n",
    "test_model.fit(solar_cycle_f10_7_train)"
   ]
  },
  {
   "cell_type": "code",
   "execution_count": 193,
   "metadata": {},
   "outputs": [],
   "source": [
    "\n",
    "solar_cycle_f10_7_predict = test_model.predict(solar_cycle_f10_7_test)"
   ]
  },
  {
   "cell_type": "code",
   "execution_count": 194,
   "metadata": {},
   "outputs": [
    {
     "data": {
      "text/html": [
       "<div>\n",
       "<style scoped>\n",
       "    .dataframe tbody tr th:only-of-type {\n",
       "        vertical-align: middle;\n",
       "    }\n",
       "\n",
       "    .dataframe tbody tr th {\n",
       "        vertical-align: top;\n",
       "    }\n",
       "\n",
       "    .dataframe thead th {\n",
       "        text-align: right;\n",
       "    }\n",
       "</style>\n",
       "<table border=\"1\" class=\"dataframe\">\n",
       "  <thead>\n",
       "    <tr style=\"text-align: right;\">\n",
       "      <th></th>\n",
       "      <th>ds</th>\n",
       "      <th>trend</th>\n",
       "      <th>yhat_lower</th>\n",
       "      <th>yhat_upper</th>\n",
       "      <th>trend_lower</th>\n",
       "      <th>trend_upper</th>\n",
       "      <th>11_years</th>\n",
       "      <th>11_years_lower</th>\n",
       "      <th>11_years_upper</th>\n",
       "      <th>additive_terms</th>\n",
       "      <th>additive_terms_lower</th>\n",
       "      <th>additive_terms_upper</th>\n",
       "      <th>yearly</th>\n",
       "      <th>yearly_lower</th>\n",
       "      <th>yearly_upper</th>\n",
       "      <th>multiplicative_terms</th>\n",
       "      <th>multiplicative_terms_lower</th>\n",
       "      <th>multiplicative_terms_upper</th>\n",
       "      <th>yhat</th>\n",
       "    </tr>\n",
       "  </thead>\n",
       "  <tbody>\n",
       "    <tr>\n",
       "      <th>0</th>\n",
       "      <td>2020-02-01</td>\n",
       "      <td>98.073450</td>\n",
       "      <td>57.355340</td>\n",
       "      <td>75.812151</td>\n",
       "      <td>98.073450</td>\n",
       "      <td>98.073450</td>\n",
       "      <td>-29.456946</td>\n",
       "      <td>-29.456946</td>\n",
       "      <td>-29.456946</td>\n",
       "      <td>-31.536562</td>\n",
       "      <td>-31.536562</td>\n",
       "      <td>-31.536562</td>\n",
       "      <td>-2.079616</td>\n",
       "      <td>-2.079616</td>\n",
       "      <td>-2.079616</td>\n",
       "      <td>0.0</td>\n",
       "      <td>0.0</td>\n",
       "      <td>0.0</td>\n",
       "      <td>66.536887</td>\n",
       "    </tr>\n",
       "    <tr>\n",
       "      <th>1</th>\n",
       "      <td>2020-03-01</td>\n",
       "      <td>98.067486</td>\n",
       "      <td>59.471274</td>\n",
       "      <td>78.655921</td>\n",
       "      <td>98.067486</td>\n",
       "      <td>98.067486</td>\n",
       "      <td>-28.436999</td>\n",
       "      <td>-28.436999</td>\n",
       "      <td>-28.436999</td>\n",
       "      <td>-29.688229</td>\n",
       "      <td>-29.688229</td>\n",
       "      <td>-29.688229</td>\n",
       "      <td>-1.251230</td>\n",
       "      <td>-1.251230</td>\n",
       "      <td>-1.251230</td>\n",
       "      <td>0.0</td>\n",
       "      <td>0.0</td>\n",
       "      <td>0.0</td>\n",
       "      <td>68.379257</td>\n",
       "    </tr>\n",
       "    <tr>\n",
       "      <th>2</th>\n",
       "      <td>2020-04-01</td>\n",
       "      <td>98.061111</td>\n",
       "      <td>61.908534</td>\n",
       "      <td>80.936072</td>\n",
       "      <td>98.061111</td>\n",
       "      <td>98.061111</td>\n",
       "      <td>-27.481707</td>\n",
       "      <td>-27.481707</td>\n",
       "      <td>-27.481707</td>\n",
       "      <td>-26.921071</td>\n",
       "      <td>-26.921071</td>\n",
       "      <td>-26.921071</td>\n",
       "      <td>0.560636</td>\n",
       "      <td>0.560636</td>\n",
       "      <td>0.560636</td>\n",
       "      <td>0.0</td>\n",
       "      <td>0.0</td>\n",
       "      <td>0.0</td>\n",
       "      <td>71.140040</td>\n",
       "    </tr>\n",
       "    <tr>\n",
       "      <th>3</th>\n",
       "      <td>2020-05-01</td>\n",
       "      <td>98.054942</td>\n",
       "      <td>61.757060</td>\n",
       "      <td>80.418931</td>\n",
       "      <td>98.054941</td>\n",
       "      <td>98.054942</td>\n",
       "      <td>-27.836109</td>\n",
       "      <td>-27.836109</td>\n",
       "      <td>-27.836109</td>\n",
       "      <td>-27.152677</td>\n",
       "      <td>-27.152677</td>\n",
       "      <td>-27.152677</td>\n",
       "      <td>0.683432</td>\n",
       "      <td>0.683432</td>\n",
       "      <td>0.683432</td>\n",
       "      <td>0.0</td>\n",
       "      <td>0.0</td>\n",
       "      <td>0.0</td>\n",
       "      <td>70.902264</td>\n",
       "    </tr>\n",
       "    <tr>\n",
       "      <th>4</th>\n",
       "      <td>2020-06-01</td>\n",
       "      <td>98.048567</td>\n",
       "      <td>56.306161</td>\n",
       "      <td>74.616122</td>\n",
       "      <td>98.048566</td>\n",
       "      <td>98.048567</td>\n",
       "      <td>-29.606774</td>\n",
       "      <td>-29.606774</td>\n",
       "      <td>-29.606774</td>\n",
       "      <td>-32.604607</td>\n",
       "      <td>-32.604607</td>\n",
       "      <td>-32.604607</td>\n",
       "      <td>-2.997833</td>\n",
       "      <td>-2.997833</td>\n",
       "      <td>-2.997833</td>\n",
       "      <td>0.0</td>\n",
       "      <td>0.0</td>\n",
       "      <td>0.0</td>\n",
       "      <td>65.443960</td>\n",
       "    </tr>\n",
       "  </tbody>\n",
       "</table>\n",
       "</div>"
      ],
      "text/plain": [
       "          ds      trend  yhat_lower  yhat_upper  trend_lower  trend_upper  \\\n",
       "0 2020-02-01  98.073450   57.355340   75.812151    98.073450    98.073450   \n",
       "1 2020-03-01  98.067486   59.471274   78.655921    98.067486    98.067486   \n",
       "2 2020-04-01  98.061111   61.908534   80.936072    98.061111    98.061111   \n",
       "3 2020-05-01  98.054942   61.757060   80.418931    98.054941    98.054942   \n",
       "4 2020-06-01  98.048567   56.306161   74.616122    98.048566    98.048567   \n",
       "\n",
       "    11_years  11_years_lower  11_years_upper  additive_terms  \\\n",
       "0 -29.456946      -29.456946      -29.456946      -31.536562   \n",
       "1 -28.436999      -28.436999      -28.436999      -29.688229   \n",
       "2 -27.481707      -27.481707      -27.481707      -26.921071   \n",
       "3 -27.836109      -27.836109      -27.836109      -27.152677   \n",
       "4 -29.606774      -29.606774      -29.606774      -32.604607   \n",
       "\n",
       "   additive_terms_lower  additive_terms_upper    yearly  yearly_lower  \\\n",
       "0            -31.536562            -31.536562 -2.079616     -2.079616   \n",
       "1            -29.688229            -29.688229 -1.251230     -1.251230   \n",
       "2            -26.921071            -26.921071  0.560636      0.560636   \n",
       "3            -27.152677            -27.152677  0.683432      0.683432   \n",
       "4            -32.604607            -32.604607 -2.997833     -2.997833   \n",
       "\n",
       "   yearly_upper  multiplicative_terms  multiplicative_terms_lower  \\\n",
       "0     -2.079616                   0.0                         0.0   \n",
       "1     -1.251230                   0.0                         0.0   \n",
       "2      0.560636                   0.0                         0.0   \n",
       "3      0.683432                   0.0                         0.0   \n",
       "4     -2.997833                   0.0                         0.0   \n",
       "\n",
       "   multiplicative_terms_upper       yhat  \n",
       "0                         0.0  66.536887  \n",
       "1                         0.0  68.379257  \n",
       "2                         0.0  71.140040  \n",
       "3                         0.0  70.902264  \n",
       "4                         0.0  65.443960  "
      ]
     },
     "execution_count": 194,
     "metadata": {},
     "output_type": "execute_result"
    }
   ],
   "source": [
    "solar_cycle_f10_7_predict.head()"
   ]
  },
  {
   "cell_type": "code",
   "execution_count": 195,
   "metadata": {},
   "outputs": [
    {
     "data": {
      "image/png": "[encoded data removed]",
      "text/plain": [
       "<Figure size 1000x500 with 1 Axes>"
      ]
     },
     "metadata": {},
     "output_type": "display_data"
    }
   ],
   "source": [
    "fig, ax = plt.subplots(figsize=(10, 5))\n",
    "fig = test_model.plot(solar_cycle_f10_7_predict, ax=ax)\n",
    "ax.set_title('Prophet F10_7 Forecast')\n",
    "plt.show()\n",
    "\n",
    "    # The black points represent the data points used to train the test_model\n",
    "    # The blue line represents the forecast\n",
    "    # The light blue area represents the confidence intervals."
   ]
  },
  {
   "cell_type": "code",
   "execution_count": 196,
   "metadata": {},
   "outputs": [
    {
     "name": "stdout",
     "output_type": "stream",
     "text": [
      "Mean Absolute Error (MAE): 16.59\n",
      "Mean Squared Error (MSE): 609.07\n"
     ]
    }
   ],
   "source": [
    "import functions as fun\n",
    "from sklearn.metrics import mean_absolute_error, mean_squared_error\n",
    "\n",
    "# Calculate Mean Absolute Error (MAE) and Mean Squared Error (MSE) for the test period\n",
    "mae = mean_absolute_error(solar_cycle_f10_7_test['y'], solar_cycle_f10_7_predict['yhat'])\n",
    "mse = mean_squared_error(solar_cycle_f10_7_test['y'], solar_cycle_f10_7_predict['yhat'])\n",
    "#mape = fun.mean_absolute_percentage_error(solar_cycle_f10_7_test['y'], solar_cycle_f10_7_predict['yhat'])\n",
    "\n",
    "print(f'Mean Absolute Error (MAE): {mae:.2f}')\n",
    "print(f'Mean Squared Error (MSE): {mse:.2f}')\n",
    "# print(f'Mean absolute precentage error (MAPE): {mape:.2f}')"
   ]
  },
  {
   "cell_type": "markdown",
   "metadata": {},
   "source": [
    "# Fine tuning with hyper-parameters search"
   ]
  },
  {
   "cell_type": "code",
   "execution_count": 198,
   "metadata": {},
   "outputs": [],
   "source": [
    "# from sklearn.model_selection import ParameterGrid  \n",
    "# import random\n",
    "\n",
    "# # Define your parameter grid\n",
    "# params_grid = {\n",
    "#     'seasonality_mode': ['multiplicative', 'additive'],\n",
    "#     'changepoint_prior_scale': [0.1, 0.2, 0.3, 0.4, 0.5],\n",
    "#     'holidays_prior_scale': [0.1, 0.2, 0.3, 0.4, 0.5],\n",
    "#     'n_changepoints': [100, 150, 200]\n",
    "# }\n",
    "\n",
    "# grid = ParameterGrid(params_grid)\n",
    "# cnt = 0\n",
    "# for p in grid:\n",
    "#     cnt = cnt + 1\n",
    "\n",
    "# print('Total Possible Models', cnt)\n",
    "\n",
    "# # Initialize a DataFrame to store the results\n",
    "# results = []\n",
    "\n",
    "# strt = '2020-01-01'\n",
    "# end = '2023-12-01'\n",
    "\n",
    "# for p in grid:\n",
    "#     print(p)\n",
    "#     random.seed(0)\n",
    "\n",
    "#     # Create and fit the Prophet model with the current parameters\n",
    "#     model = Prophet(\n",
    "#         changepoint_prior_scale=p['changepoint_prior_scale'],\n",
    "#         holidays_prior_scale=p['holidays_prior_scale'],\n",
    "#         n_changepoints=p['n_changepoints'],\n",
    "#         seasonality_mode=p['seasonality_mode'],\n",
    "#         weekly_seasonality=True,\n",
    "#         daily_seasonality=True,\n",
    "#         yearly_seasonality=True\n",
    "#     )\n",
    "#     model.fit(solar_cycle_f10_7_train)\n",
    "\n",
    "#     # Make predictions for the test period\n",
    "#     future = model.make_future_dataframe(periods=len(solar_cycle_f10_7_test), freq='M')\n",
    "#     forecast = model.predict(future)\n",
    "\n",
    "#     # Extract the relevant rows from the forecast for the test period\n",
    "#     test = forecast.loc[(forecast['ds'] > strt) & (forecast['ds'] <= end)].copy()  # Ensure 'test' only contains relevant rows\n",
    "\n",
    "#     # Filter 'solar_cycle_f10_7_test' to match the length of 'test'\n",
    "#     solar_cycle_f10_7_test = solar_cycle_f10_7_test.iloc[:len(test)].copy()\n",
    "\n",
    "#     # Calculate the Mean Absolute Error (MAE) for the test period\n",
    "#     MAE = mean_absolute_error(solar_cycle_f10_7_test['y'], test['yhat'])\n",
    "\n",
    "#     print('Mean Absolute Error (MAE):', MAE)\n",
    "\n",
    "#     # Append the results to the results list\n",
    "#     results.append({'MAE': MAE, 'Parameters': p})\n",
    "\n",
    "# # Create a DataFrame from the results list\n",
    "# model_parameters = pd.DataFrame(results)\n",
    "\n",
    "# # Sort the results by MAE in ascending order\n",
    "# model_parameters = model_parameters.sort_values(by='MAE')\n",
    "\n",
    "# # Print the best parameters and corresponding MAE\n",
    "# best_params = model_parameters.iloc[0]['Parameters']\n",
    "# best_mae = model_parameters.iloc[0]['MAE']\n",
    "# print('Best Parameters:', best_params)\n",
    "# print('Best MAE:', best_mae)"
   ]
  },
  {
   "cell_type": "code",
   "execution_count": 199,
   "metadata": {},
   "outputs": [],
   "source": [
    "with open('../models/prophet/prophet_model_solar_cycles_f10_7.pkl', 'wb') as model_file:\n",
    "    pickle.dump(model, model_file)"
   ]
  },
  {
   "cell_type": "code",
   "execution_count": null,
   "metadata": {},
   "outputs": [],
   "source": []
  },
  {
   "cell_type": "markdown",
   "metadata": {},
   "source": [
    "# Converting outputed forecast into a monthly frequency, reseting the index to fit other predictions "
   ]
  },
  {
   "cell_type": "code",
   "execution_count": 200,
   "metadata": {},
   "outputs": [],
   "source": [
    "# Filter rows before 2023-12-31\n",
    "forecast = forecast[forecast['ds'] > '2023-12-31']\n",
    "\n",
    "# Filter columns to keep only 'yhat', 'yhat_lower', and 'yhat_upper'\n",
    "forecast = forecast[['ds', 'yhat']]\n",
    "\n",
    "# Rename the columns with \"prophet_\" prefix\n",
    "forecast.rename(columns={'yhat': 'prophet_f10_7'}, inplace=True)\n",
    "\n",
    "# Reset the index\n",
    "forecast.reset_index(drop=True, inplace=True)"
   ]
  },
  {
   "cell_type": "code",
   "execution_count": 201,
   "metadata": {},
   "outputs": [
    {
     "data": {
      "text/html": [
       "<div>\n",
       "<style scoped>\n",
       "    .dataframe tbody tr th:only-of-type {\n",
       "        vertical-align: middle;\n",
       "    }\n",
       "\n",
       "    .dataframe tbody tr th {\n",
       "        vertical-align: top;\n",
       "    }\n",
       "\n",
       "    .dataframe thead th {\n",
       "        text-align: right;\n",
       "    }\n",
       "</style>\n",
       "<table border=\"1\" class=\"dataframe\">\n",
       "  <thead>\n",
       "    <tr style=\"text-align: right;\">\n",
       "      <th></th>\n",
       "      <th>ds</th>\n",
       "      <th>prophet_f10_7</th>\n",
       "    </tr>\n",
       "  </thead>\n",
       "  <tbody>\n",
       "    <tr>\n",
       "      <th>0</th>\n",
       "      <td>2024-01-01</td>\n",
       "      <td>193.107482</td>\n",
       "    </tr>\n",
       "    <tr>\n",
       "      <th>1</th>\n",
       "      <td>2024-01-02</td>\n",
       "      <td>198.377796</td>\n",
       "    </tr>\n",
       "    <tr>\n",
       "      <th>2</th>\n",
       "      <td>2024-01-03</td>\n",
       "      <td>201.819281</td>\n",
       "    </tr>\n",
       "    <tr>\n",
       "      <th>3</th>\n",
       "      <td>2024-01-04</td>\n",
       "      <td>203.260139</td>\n",
       "    </tr>\n",
       "    <tr>\n",
       "      <th>4</th>\n",
       "      <td>2024-01-05</td>\n",
       "      <td>202.641329</td>\n",
       "    </tr>\n",
       "    <tr>\n",
       "      <th>...</th>\n",
       "      <td>...</td>\n",
       "      <td>...</td>\n",
       "    </tr>\n",
       "    <tr>\n",
       "      <th>3615</th>\n",
       "      <td>2033-11-24</td>\n",
       "      <td>217.688350</td>\n",
       "    </tr>\n",
       "    <tr>\n",
       "      <th>3616</th>\n",
       "      <td>2033-11-25</td>\n",
       "      <td>216.017604</td>\n",
       "    </tr>\n",
       "    <tr>\n",
       "      <th>3617</th>\n",
       "      <td>2033-11-26</td>\n",
       "      <td>212.584122</td>\n",
       "    </tr>\n",
       "    <tr>\n",
       "      <th>3618</th>\n",
       "      <td>2033-11-27</td>\n",
       "      <td>207.452059</td>\n",
       "    </tr>\n",
       "    <tr>\n",
       "      <th>3619</th>\n",
       "      <td>2033-11-28</td>\n",
       "      <td>200.774727</td>\n",
       "    </tr>\n",
       "  </tbody>\n",
       "</table>\n",
       "<p>3620 rows × 2 columns</p>\n",
       "</div>"
      ],
      "text/plain": [
       "             ds  prophet_f10_7\n",
       "0    2024-01-01     193.107482\n",
       "1    2024-01-02     198.377796\n",
       "2    2024-01-03     201.819281\n",
       "3    2024-01-04     203.260139\n",
       "4    2024-01-05     202.641329\n",
       "...         ...            ...\n",
       "3615 2033-11-24     217.688350\n",
       "3616 2033-11-25     216.017604\n",
       "3617 2033-11-26     212.584122\n",
       "3618 2033-11-27     207.452059\n",
       "3619 2033-11-28     200.774727\n",
       "\n",
       "[3620 rows x 2 columns]"
      ]
     },
     "execution_count": 201,
     "metadata": {},
     "output_type": "execute_result"
    }
   ],
   "source": [
    "forecast"
   ]
  },
  {
   "cell_type": "code",
   "execution_count": 202,
   "metadata": {},
   "outputs": [
    {
     "data": {
      "text/html": [
       "<div>\n",
       "<style scoped>\n",
       "    .dataframe tbody tr th:only-of-type {\n",
       "        vertical-align: middle;\n",
       "    }\n",
       "\n",
       "    .dataframe tbody tr th {\n",
       "        vertical-align: top;\n",
       "    }\n",
       "\n",
       "    .dataframe thead th {\n",
       "        text-align: right;\n",
       "    }\n",
       "</style>\n",
       "<table border=\"1\" class=\"dataframe\">\n",
       "  <thead>\n",
       "    <tr style=\"text-align: right;\">\n",
       "      <th></th>\n",
       "      <th>ds</th>\n",
       "      <th>prophet_f10_7</th>\n",
       "    </tr>\n",
       "  </thead>\n",
       "  <tbody>\n",
       "    <tr>\n",
       "      <th>0</th>\n",
       "      <td>2024-01-01</td>\n",
       "      <td>153.804489</td>\n",
       "    </tr>\n",
       "    <tr>\n",
       "      <th>1</th>\n",
       "      <td>2024-02-01</td>\n",
       "      <td>358.812411</td>\n",
       "    </tr>\n",
       "    <tr>\n",
       "      <th>2</th>\n",
       "      <td>2024-03-01</td>\n",
       "      <td>258.078365</td>\n",
       "    </tr>\n",
       "    <tr>\n",
       "      <th>3</th>\n",
       "      <td>2024-04-01</td>\n",
       "      <td>176.964129</td>\n",
       "    </tr>\n",
       "    <tr>\n",
       "      <th>4</th>\n",
       "      <td>2024-05-01</td>\n",
       "      <td>224.229759</td>\n",
       "    </tr>\n",
       "    <tr>\n",
       "      <th>...</th>\n",
       "      <td>...</td>\n",
       "      <td>...</td>\n",
       "    </tr>\n",
       "    <tr>\n",
       "      <th>114</th>\n",
       "      <td>2033-07-01</td>\n",
       "      <td>193.184957</td>\n",
       "    </tr>\n",
       "    <tr>\n",
       "      <th>115</th>\n",
       "      <td>2033-08-01</td>\n",
       "      <td>243.220657</td>\n",
       "    </tr>\n",
       "    <tr>\n",
       "      <th>116</th>\n",
       "      <td>2033-09-01</td>\n",
       "      <td>219.883398</td>\n",
       "    </tr>\n",
       "    <tr>\n",
       "      <th>117</th>\n",
       "      <td>2033-10-01</td>\n",
       "      <td>220.837190</td>\n",
       "    </tr>\n",
       "    <tr>\n",
       "      <th>118</th>\n",
       "      <td>2033-11-01</td>\n",
       "      <td>184.714252</td>\n",
       "    </tr>\n",
       "  </tbody>\n",
       "</table>\n",
       "<p>119 rows × 2 columns</p>\n",
       "</div>"
      ],
      "text/plain": [
       "             ds  prophet_f10_7\n",
       "0    2024-01-01     153.804489\n",
       "1    2024-02-01     358.812411\n",
       "2    2024-03-01     258.078365\n",
       "3    2024-04-01     176.964129\n",
       "4    2024-05-01     224.229759\n",
       "..          ...            ...\n",
       "114  2033-07-01     193.184957\n",
       "115  2033-08-01     243.220657\n",
       "116  2033-09-01     219.883398\n",
       "117  2033-10-01     220.837190\n",
       "118  2033-11-01     184.714252\n",
       "\n",
       "[119 rows x 2 columns]"
      ]
     },
     "metadata": {},
     "output_type": "display_data"
    }
   ],
   "source": [
    "prophet_10y_f10_7forecast = fun.group_and_average_by_month(forecast, 'ds')\n",
    "\n",
    "#reseting the date column for future comparison with SARIMA\n",
    "\n",
    "prophet_10y_f10_7forecast['ds'] = prophet_10y_f10_7forecast['ds'].dt.strftime('%Y-%m-01')\n",
    "\n",
    "display(prophet_10y_f10_7forecast)"
   ]
  },
  {
   "cell_type": "code",
   "execution_count": 203,
   "metadata": {},
   "outputs": [],
   "source": [
    "#saving the cleaned and re-indexed dataframe as a CSV for further use\n",
    "prophet_10y_f10_7forecast.to_csv('../data/prophet_10Y__f10_7_forecast.csv', index=False)"
   ]
  },
  {
   "cell_type": "code",
   "execution_count": null,
   "metadata": {},
   "outputs": [],
   "source": []
  },
  {
   "cell_type": "code",
   "execution_count": null,
   "metadata": {},
   "outputs": [],
   "source": []
  }
 ],
 "metadata": {
  "kernelspec": {
   "display_name": "env_helios",
   "language": "python",
   "name": "env_helios"
  },
  "language_info": {
   "codemirror_mode": {
    "name": "ipython",
    "version": 3
   },
   "file_extension": ".py",
   "mimetype": "text/x-python",
   "name": "python",
   "nbconvert_exporter": "python",
   "pygments_lexer": "ipython3",
   "version": "3.11.5"
  }
 },
 "nbformat": 4,
 "nbformat_minor": 2
}
